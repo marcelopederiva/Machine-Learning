{
 "cells": [
  {
   "cell_type": "code",
   "execution_count": 11,
   "metadata": {},
   "outputs": [],
   "source": [
    "def bestc(xtr,ytr,yv,xv,vmin,vmax,k,m):\n",
    "    tx_graph = []\n",
    "    c_graph = []\n",
    "    err_graph = []\n",
    "    for p in range(vmin,vmax,k):\n",
    "        np.random.seed(k)\n",
    "        W = np.random.normal(scale=0.2 ,size = (500, X.shape[1]))\n",
    "        \n",
    "        htr = np.dot(xtr,W.T)\n",
    "\n",
    "\n",
    "        htr0 = np.ones((1,htr.shape[0]))\n",
    "\n",
    "        htr0 = htr0.T\n",
    "        htr = np.hstack((htr0,htr))\n",
    "\n",
    "        print(htr.shape)\n",
    "\n",
    "        hv = np.dot(xv,W.T)\n",
    "        # print(hv.shape)\n",
    "\n",
    "\n",
    "        hv0 = np.ones((1,hv.shape[0]))\n",
    "\n",
    "        hv0 = hv0.T\n",
    "        hv = np.hstack((hv0,hv))\n",
    "        \n",
    "        Htr = np.copy(htr)\n",
    "\n",
    "        for i in range(htr.shape[0]):\n",
    "            for j in range(htr.shape[1]):\n",
    "                if htr[i,j]>=0:\n",
    "                    Htr[i,j] = htr[i,j]\n",
    "                else:\n",
    "                    Htr[i,j] = 0.1*htr[i,j]\n",
    "\n",
    "        Hv = np.copy(hv)\n",
    "\n",
    "        for i in range(hv.shape[0]):\n",
    "            for j in range(hv.shape[1]):\n",
    "                if hv[i,j]>=0:\n",
    "                    Hv[i,j] = hv[i,j]\n",
    "                else:\n",
    "                    Hv[i,j] = 0.1*hv[i,j]            \n",
    "            \n",
    "        \n",
    "        \n",
    "        \n",
    "        \n",
    "        \n",
    "        \n",
    "        \n",
    "        \n",
    "        \n",
    "        \n",
    "        \n",
    "        \n",
    "        \n",
    "        \n",
    "        \n",
    "        \n",
    "        \n",
    "        \n",
    "        \n",
    "        \n",
    "        \n",
    "        \n",
    "        \n",
    "        tx_acerto_max = 0\n",
    "        c = p\n",
    "\n",
    "        w = np.dot(np.linalg.inv(np.dot(Htr.T,Htr)+c*np.eye(m)),np.dot(Htr.T,ytr))\n",
    "\n",
    "        Y_est = np.dot(Hv,w)\n",
    "\n",
    "        err_graph.append(np.linalg.norm(Y_est-yv))\n",
    "        acerto = 0\n",
    "#         Test\n",
    "        for i in range(0,int(Hv.shape[0])):\n",
    "            #maximum value of each Y row\n",
    "            max_value = max(Y_est[i,:])\n",
    "\n",
    "            #Position of the max value in the Row\n",
    "            indmax = np.where(Y_est[i,:]==max_value)\n",
    "\n",
    "\n",
    "\n",
    "            if yv[i,indmax[0][0]]>0.5:\n",
    "                acerto+=1\n",
    "\n",
    "        tx_acerto = acerto/(Nv)\n",
    "\n",
    "        if tx_acerto >= tx_acerto_max:\n",
    "            tx_acerto_max  = tx_acerto\n",
    "            c_min  = c\n",
    "            w_min = w\n",
    "            tx_graph.append(tx_acerto_max) \n",
    "            c_graph.append(c_min)\n",
    "#     print(err_graph)\n",
    "\n",
    "    return c_graph,tx_graph,err_graph\n",
    "    \n",
    "# print(c_graph)\n",
    "# print(tx_graph)"
   ]
  },
  {
   "cell_type": "code",
   "execution_count": 12,
   "metadata": {},
   "outputs": [
    {
     "name": "stdout",
     "output_type": "stream",
     "text": [
      "(60000, 1)\n",
      "(60000, 784)\n",
      "(60000, 785)\n",
      "(10000, 785)\n"
     ]
    }
   ],
   "source": [
    "import numpy as np\n",
    "import sklearn\n",
    "import scipy.io\n",
    "import matplotlib.pyplot as plt\n",
    "from sklearn.model_selection import train_test_split\n",
    "\n",
    "data = scipy.io.loadmat('data.mat')\n",
    "test = scipy.io.loadmat('test.mat')\n",
    "\n",
    "X = data['X']\n",
    "\n",
    "X0 = np.ones((1,X.shape[0]))\n",
    "print(X0.T.shape)\n",
    "print(X.shape)\n",
    "X0 = X0.T\n",
    "X = np.hstack((X0,X))\n",
    "\n",
    "print(X.shape)\n",
    "\n",
    "Y = data['S']\n",
    "\n",
    "Xt = test['Xt']\n",
    "\n",
    "# print(Xt0.T.shape)\n",
    "# print(Xt.shape)\n",
    "\n",
    "\n",
    "Xt0 = np.ones((1,Xt.shape[0]))\n",
    "Xt0 = Xt0.T\n",
    "Xt = np.hstack((Xt0,Xt))\n",
    "\n",
    "\n",
    "Yt = test['St']\n",
    "\n",
    "# N, m = X.shape\n",
    "# Nt, mt = Xt.shape\n",
    "\n",
    "Xtr, Xv, Ytr, Yv = train_test_split(X, Y, test_size=0.2, random_state=42)\n",
    "\n",
    "Nv,mv = Xv.shape\n",
    "print(Xt.shape)\n",
    "\n",
    "# print(X.shape)\n"
   ]
  },
  {
   "cell_type": "code",
   "execution_count": 15,
   "metadata": {},
   "outputs": [
    {
     "data": {
      "image/png": "[encoded data removed]",
      "text/plain": [
       "<Figure size 432x288 with 1 Axes>"
      ]
     },
     "metadata": {
      "needs_background": "light"
     },
     "output_type": "display_data"
    },
    {
     "name": "stdout",
     "output_type": "stream",
     "text": [
      "0.9159166666666667\n",
      "Max value of c: -15\n"
     ]
    },
    {
     "data": {
      "image/png": "[encoded data removed]",
      "text/plain": [
       "<Figure size 432x288 with 1 Axes>"
      ]
     },
     "metadata": {
      "needs_background": "light"
     },
     "output_type": "display_data"
    },
    {
     "name": "stdout",
     "output_type": "stream",
     "text": [
      "0.91575\n",
      "Min value of err: -11\n"
     ]
    }
   ],
   "source": [
    "c, t, err = bestc(Xtr,Ytr,Yv,Xv,-16,-5,1,501)\n",
    "plt.grid(True, which=\"both\")\n",
    "plt.plot(c,t)\n",
    "plt.xlabel('Coeficiente de Regularização')\n",
    "plt.ylabel('Taxa de classificação correta')\n",
    "plt.show()\n",
    "print(max(t))\n",
    "t_max = max(t)\n",
    "idx_max = t.index(t_max)\n",
    "print('Max value of c:',c[idx_max] )\n",
    "plt.grid(True, which=\"both\")\n",
    "plt.plot(c,err)\n",
    "plt.xlabel('Coeficiente de Regularização')\n",
    "plt.ylabel('Erro Quadrático Médio na Variação')\n",
    "plt.show()\n",
    "print(min(t))\n",
    "err_min = min(err)\n",
    "idx_min = err.index(err_min)\n",
    "print('Min value of err:', c[idx_min])\n",
    "\n"
   ]
  },
  {
   "cell_type": "code",
   "execution_count": null,
   "metadata": {},
   "outputs": [],
   "source": []
  },
  {
   "cell_type": "code",
   "execution_count": null,
   "metadata": {},
   "outputs": [],
   "source": []
  },
  {
   "cell_type": "code",
   "execution_count": null,
   "metadata": {},
   "outputs": [],
   "source": []
  },
  {
   "cell_type": "code",
   "execution_count": null,
   "metadata": {},
   "outputs": [],
   "source": []
  },
  {
   "cell_type": "code",
   "execution_count": null,
   "metadata": {},
   "outputs": [],
   "source": []
  },
  {
   "cell_type": "code",
   "execution_count": null,
   "metadata": {},
   "outputs": [],
   "source": []
  }
 ],
 "metadata": {
  "kernelspec": {
   "display_name": "Python 3",
   "language": "python",
   "name": "python3"
  },
  "language_info": {
   "codemirror_mode": {
    "name": "ipython",
    "version": 3
   },
   "file_extension": ".py",
   "mimetype": "text/x-python",
   "name": "python",
   "nbconvert_exporter": "python",
   "pygments_lexer": "ipython3",
   "version": "3.6.10"
  }
 },
 "nbformat": 4,
 "nbformat_minor": 2
}
